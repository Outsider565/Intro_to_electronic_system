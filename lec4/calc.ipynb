{
 "cells": [
  {
   "cell_type": "code",
   "execution_count": 1,
   "metadata": {},
   "outputs": [],
   "source": [
    "from phyUtil import *\n",
    "import numpy as np"
   ]
  },
  {
   "cell_type": "code",
   "execution_count": 2,
   "metadata": {},
   "outputs": [],
   "source": [
    "hz250=np.array([250.29210021,257.0869822,241.65546139,254.27729615,248.93220604,258.53527841,261.72142894,254.99613947,247.33880505,250.99060499])\n",
    "hz1000=np.array([251.71126717,249.94812977,249.12677228,252.10664605,250.30975309,248.08876197,249.78936141,249.60739598,257.04603669,250.76926296])"
   ]
  },
  {
   "cell_type": "code",
   "execution_count": 3,
   "metadata": {},
   "outputs": [
    {
     "output_type": "stream",
     "name": "stdout",
     "text": "\\begin{center}\n\\begin{tabular}{|c|c|c|c|c|c|c|c|c|c|}\n1&2&3&4&5&6&7&8&9&10\\\\\\hline\n251.71&249.95&249.13&252.11&250.31&248.09&249.79&249.61&257.05&250.77\n\\end{tabular}\n\\end{center}\n"
    },
    {
     "output_type": "execute_result",
     "data": {
      "text/plain": "'\\\\begin{center}\\n\\\\begin{tabular}{|c|c|c|c|c|c|c|c|c|c|}\\n1&2&3&4&5&6&7&8&9&10\\\\\\\\\\\\hline\\n251.71&249.95&249.13&252.11&250.31&248.09&249.79&249.61&257.05&250.77\\n\\\\end{tabular}\\n\\\\end{center}'"
     },
     "metadata": {},
     "execution_count": 3
    }
   ],
   "source": [
    "ph.genTable(np.linspace(1,10,10),hz1000,line_1=0,line_2=2)"
   ]
  },
  {
   "cell_type": "code",
   "execution_count": 4,
   "metadata": {},
   "outputs": [
    {
     "output_type": "execute_result",
     "data": {
      "text/plain": "250.85033873700004"
     },
     "metadata": {},
     "execution_count": 4
    }
   ],
   "source": [
    "hz1000.mean()"
   ]
  },
  {
   "cell_type": "code",
   "execution_count": 5,
   "metadata": {},
   "outputs": [
    {
     "output_type": "execute_result",
     "data": {
      "text/plain": "5.508653325706365"
     },
     "metadata": {},
     "execution_count": 5
    }
   ],
   "source": [
    "np.var(hz1000)"
   ]
  },
  {
   "cell_type": "code",
   "execution_count": 6,
   "metadata": {},
   "outputs": [],
   "source": [
    "distance=np.array((169.5 ,174.0 ,169.0 ,169.0 ,169.0 ,169.0 ,169.0, 169.0, 169.0, 169.0))"
   ]
  },
  {
   "cell_type": "code",
   "execution_count": 7,
   "metadata": {},
   "outputs": [
    {
     "output_type": "stream",
     "name": "stdout",
     "text": "\\begin{center}\n\\begin{tabular}{|c|c|c|c|c|c|c|c|c|c|}\n1&2&3&4&5&6&7&8&9&10\\\\\\hline\n169.5&174.0&169.0&169.0&169.0&169.0&169.0&169.0&169.0&169.0\n\\end{tabular}\n\\end{center}\n"
    },
    {
     "output_type": "execute_result",
     "data": {
      "text/plain": "'\\\\begin{center}\\n\\\\begin{tabular}{|c|c|c|c|c|c|c|c|c|c|}\\n1&2&3&4&5&6&7&8&9&10\\\\\\\\\\\\hline\\n169.5&174.0&169.0&169.0&169.0&169.0&169.0&169.0&169.0&169.0\\n\\\\end{tabular}\\n\\\\end{center}'"
     },
     "metadata": {},
     "execution_count": 7
    }
   ],
   "source": [
    "ph.genTable(np.linspace(1,10,10),distance,line_1=0,line_2=1)"
   ]
  },
  {
   "cell_type": "code",
   "execution_count": 8,
   "metadata": {},
   "outputs": [
    {
     "output_type": "stream",
     "name": "stdout",
     "text": "\\begin{center}\n\\begin{tabular}{|c|c|c|c|c|c|c|c|c|c|}\n1.0&2.0&3.0&4.0&5.0&6.0&7.0&8.0&9.0&10.0\\\\\\hline\n1891.0&1893.0&1893.0&1893.0&1891.0&1890.0&1890.0&1893.0&1893.0&1893.0\\\\\\hline\n1910.0&1902.0&1902.0&1902.0&1902.0&1902.0&1902.0&1902.0&1902.0&1900.0\\\\\\hline\n3128.0&3131.0&1934.0&5196.0&5196.0&3131.0&3093.0&1924.0&3093.0&3115.0\n\\end{tabular}\n\\end{center}\n"
    },
    {
     "output_type": "execute_result",
     "data": {
      "text/plain": "'\\\\begin{center}\\n\\\\begin{tabular}{|c|c|c|c|c|c|c|c|c|c|}\\n1.0&2.0&3.0&4.0&5.0&6.0&7.0&8.0&9.0&10.0\\\\\\\\\\\\hline\\n1891.0&1893.0&1893.0&1893.0&1891.0&1890.0&1890.0&1893.0&1893.0&1893.0\\\\\\\\\\\\hline\\n1910.0&1902.0&1902.0&1902.0&1902.0&1902.0&1902.0&1902.0&1902.0&1900.0\\\\\\\\\\\\hline\\n3128.0&3131.0&1934.0&5196.0&5196.0&3131.0&3093.0&1924.0&3093.0&3115.0\\n\\\\end{tabular}\\n\\\\end{center}'"
     },
     "metadata": {},
     "execution_count": 8
    }
   ],
   "source": [
    "x0=np.array((1891.0 ,1893.0, 1893.0, 1893.0, 1891.0, 1890.0, 1890.0, 1893.0, 1893.0, 1893.0))\n",
    "x15=np.array((1910.0 ,1902.0 ,1902.0 ,1902.0 ,1902.0 ,1902.0 ,1902.0 ,1902.0 ,1902.0 ,1900.0 ))\n",
    "x45=np.array(( 3128.0 ,3131.0 ,1934.0 ,5196.0 ,5196.0 ,3131.0 ,3093.0 ,1924.0 ,3093.0 ,3115.0 ))\n",
    "ph.genTable(np.linspace(1,10,10),x0,x15,x45)"
   ]
  },
  {
   "cell_type": "code",
   "execution_count": null,
   "metadata": {},
   "outputs": [],
   "source": []
  }
 ],
 "metadata": {
  "language_info": {
   "codemirror_mode": {
    "name": "ipython",
    "version": 3
   },
   "file_extension": ".py",
   "mimetype": "text/x-python",
   "name": "python",
   "nbconvert_exporter": "python",
   "pygments_lexer": "ipython3",
   "version": "3.7.3-final"
  },
  "orig_nbformat": 2,
  "kernelspec": {
   "name": "python3",
   "display_name": "Python 3"
  }
 },
 "nbformat": 4,
 "nbformat_minor": 2
}